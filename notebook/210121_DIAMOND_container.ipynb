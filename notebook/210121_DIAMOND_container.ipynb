{
 "cells": [
  {
   "cell_type": "markdown",
   "metadata": {},
   "source": [
    "# DIAMOND + NR EC2 instance\n",
    "```\n",
    "Lead     : ababaian\n",
    "Issue    : <github issue #>\n",
    "start    : 2021 01 21\n",
    "complete : YYYY MM DD\n",
    "files    : NA\n",
    "s3 files : s3://serratus-public/notebook/200121_nr/\n",
    "```\n",
    "\n",
    "## Introduction\n",
    "\n",
    "As we retrieve new sequences we will have to search every sequence against the \"NON REDUNDANT\" protein database. Probably the fastest approach is to grab a fasta of the NR database, index it for `diamond` and throw our sequences at it\n",
    "\n",
    "#### Links\n",
    "\n",
    "- [BLAST in the cloud](https://blast.ncbi.nlm.nih.gov/Blast.cgi?CMD=Web&PAGE_TYPE=BlastDocs&DOC_TYPE=CloudBlast)\n",
    "- [BLAST database information](https://github.com/ncbi/blast_plus_docs#blast-databases)"
   ]
  },
  {
   "cell_type": "markdown",
   "metadata": {},
   "source": [
    "## EC2 Set-up script\n",
    "\n",
    "- OS: `Amazon Linux 2 AMI (HVM) x86`\n",
    "- ami: `ami-0be2609ba883822ec`\n",
    "- instance: `c5.xlarge` // `r5d.4xlarge`\n",
    "- description: `\"c5.xlarge (- ECUs, 4 vCPUs, 3.4 GHz, -, 8 GiB memory, EBS only)\"`\n",
    "- description: `\"r5d.4xlarge (16 vCPU\t128 GB\t2 x 300 NVMe SSD)\"`\n",
    "- storage: `450 GiB SSD (gp2)`\n",
    "- encryption: `false`"
   ]
  },
  {
   "cell_type": "code",
   "execution_count": 1,
   "metadata": {},
   "outputs": [
    {
     "name": "stdout",
     "output_type": "stream",
     "text": [
      "Thu Jan 21 23:50:34 PST 2021\n"
     ]
    }
   ],
   "source": [
    "# date and version\n",
    "date"
   ]
  },
  {
   "cell_type": "code",
   "execution_count": null,
   "metadata": {},
   "outputs": [],
   "source": [
    "# INSTALL DIAMOND\n",
    "# From base amazon linux 2\n",
    "sudo yum install -y docker git\n",
    "\n",
    "# From `serratus-align` container\n",
    "mkdir diamond; cd diamond\n",
    "\n",
    "# Install diamond2 \n",
    "# Libraries for building diamond2\n",
    "sudo yum -y install git gcc gcc-c++ glibc-devel \\\n",
    "  cmake patch automake zlib-devel make\n",
    "\n",
    "# grab latest with fix from Benjamin\n",
    "git clone https://github.com/bbuchfink/diamond.git\n",
    "cd diamond\n",
    "\n",
    "mkdir bin; cd bin\n",
    "cmake ..\n",
    "make -j4\n",
    "sudo cp ./diamond /usr/bin/diamond\n",
    "sudo chmod 755 /usr/bin/diamond\n",
    "\n",
    "# stable copy to S3 servers\n",
    "# OLD: curl https://serratus-public.s3.amazonaws.com/bin/diamond > /usr/bin/diamond2; chmod 755 /usr/bin/diamond2\n",
    "# curl https://serratus-public.s3.amazonaws.com/bin/diamond > /usr/bin/diamond; chmod 755 /usr/bin/diamond\n"
   ]
  },
  {
   "cell_type": "code",
   "execution_count": null,
   "metadata": {},
   "outputs": [],
   "source": [
    "# DOWNLOAD BLAST DB - NR\n",
    "mkdir -p ~/nr; cd nr\n",
    "wget -O ftp://ftp.ncbi.nlm.nih.gov/blast/db/FASTA/nr.gz \\\n",
    " | pigz -d - \\\n",
    " > nr.fa"
   ]
  },
  {
   "cell_type": "code",
   "execution_count": null,
   "metadata": {},
   "outputs": [],
   "source": [
    "# Switch to r5d.4xlarge instance with 450 GB block storage\n",
    "# Make diamond nr db\n",
    "# Database hash = f0ef2411c9661667e19bf85d06ff9fab\n",
    "diamond makedb -p 14 --in nr.fa -d nr"
   ]
  },
  {
   "cell_type": "code",
   "execution_count": null,
   "metadata": {},
   "outputs": [],
   "source": [
    "# Test data (rVert unitigs)\n",
    "aws s3 cp s3://serratus-public/rce/tmp/rvert_otu_analysis.tar.gz ./\n",
    "tar -xvf rvert*"
   ]
  },
  {
   "cell_type": "code",
   "execution_count": null,
   "metadata": {},
   "outputs": [],
   "source": [
    "#!/bin/bash\n",
    "# run_diamond.sh\n",
    "#\n",
    "# Diamond search standard for Serratus blastx\n",
    "# against NR database\n",
    "\n",
    "INPUT=$1\n",
    "OUTPUT=$2\n",
    "\n",
    "# Diamond blastx alignment\n",
    "time diamond blastx \\\n",
    "  -q  $INPUT \\\n",
    "  -d ~/nr/nr.dmnd \\\n",
    "  --masking 0 \\\n",
    "  --unal 1 \\\n",
    "  --mid-sensitive -s 1  -l 1 \\\n",
    "  -c1 -p14 -k1 -b 10 \\\n",
    "  -f 6 qseqid  qstart qend qlen qstrand \\\n",
    "       sseqid  sstart send slen \\\n",
    "       pident evalue cigar \\\n",
    "       qseq_translated \\\n",
    "  > \"$OUTPUT\".pro\n",
    "\n",
    "time diamond blastx \\\n",
    "  -q  $INPUT \\\n",
    "  -d ~/nr/nr.dmnd \\\n",
    "  --masking 0 \\\n",
    "  --unal 1 \\\n",
    "  -l 1 \\\n",
    "  -c1 -p14 -k1 -b 10 \\\n",
    "  -f 6 qseqid  qstart qend qlen qstrand \\\n",
    "       sseqid  sstart send slen \\\n",
    "       pident evalue \\\n",
    "       qseq_translated \\\n",
    "  > \"$OUTPUT\".pro\n",
    "\n",
    "\n",
    "# real    60m21.153s\n",
    "# user    635m37.423s\n",
    "# sys     5m29.373s\n"
   ]
  }
 ],
 "metadata": {
  "kernelspec": {
   "display_name": "Bash",
   "language": "bash",
   "name": "bash"
  },
  "language_info": {
   "codemirror_mode": "shell",
   "file_extension": ".sh",
   "mimetype": "text/x-sh",
   "name": "bash"
  }
 },
 "nbformat": 4,
 "nbformat_minor": 1
}
